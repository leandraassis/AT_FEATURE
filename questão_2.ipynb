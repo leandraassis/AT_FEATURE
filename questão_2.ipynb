{
 "cells": [
  {
   "cell_type": "markdown",
   "id": "c19acb5e",
   "metadata": {},
   "source": [
    "#### Pré-processamento"
   ]
  },
  {
   "cell_type": "code",
   "execution_count": 20,
   "id": "523c91c2",
   "metadata": {},
   "outputs": [
    {
     "name": "stdout",
     "output_type": "stream",
     "text": [
      "\n",
      "Features contínuas selecionadas:\n",
      "   mean area  mean perimeter\n",
      "0     1001.0          122.80\n",
      "1     1326.0          132.90\n",
      "2     1203.0          130.00\n",
      "3      386.1           77.58\n",
      "4     1297.0          135.10\n"
     ]
    }
   ],
   "source": [
    "from sklearn.datasets import load_breast_cancer\n",
    "import pandas as pd\n",
    "from sklearn.preprocessing import KBinsDiscretizer\n",
    "\n",
    "dataset = load_breast_cancer()\n",
    "df_breast_cancer = pd.DataFrame(dataset.data, columns=dataset.feature_names)\n",
    "\n",
    "df_features_selecionadas = df_breast_cancer[['mean area', 'mean perimeter']]\n",
    "\n",
    "print(\"\\nFeatures contínuas selecionadas:\")\n",
    "print(df_features_selecionadas.head())"
   ]
  },
  {
   "cell_type": "markdown",
   "id": "41789b52",
   "metadata": {},
   "source": [
    "#### Quantização por bins fixos"
   ]
  },
  {
   "cell_type": "code",
   "execution_count": null,
   "id": "8159319d",
   "metadata": {},
   "outputs": [
    {
     "name": "stdout",
     "output_type": "stream",
     "text": [
      "=== Discretização por meio de quantização por bins fixos ===\n",
      "Antes da discretização (valores originais):\n",
      "   mean area  mean perimeter\n",
      "0     1001.0          122.80\n",
      "1     1326.0          132.90\n",
      "2     1203.0          130.00\n",
      "3      386.1           77.58\n",
      "4     1297.0          135.10\n",
      "\n",
      "Após discretização:\n",
      "   mean area  mean perimeter\n",
      "0        1.0             2.0\n",
      "1        2.0             2.0\n",
      "2        1.0             2.0\n",
      "3        0.0             0.0\n",
      "4        1.0             2.0\n"
     ]
    }
   ],
   "source": [
    "discretizador_uniform = KBinsDiscretizer(n_bins=4, encode='ordinal', strategy='uniform')\n",
    "\n",
    "features_uniform = discretizador_uniform.fit_transform(df_features_selecionadas)\n",
    "\n",
    "df_features_uniform = pd.DataFrame(features_uniform, columns=df_features_selecionadas.columns)\n",
    "\n",
    "print(\"=== Discretização por meio de quantização por bins fixos ===\")\n",
    "\n",
    "print(\"Antes da discretização (valores originais):\")\n",
    "print(df_features_selecionadas.head())\n",
    "\n",
    "print(\"\\nApós discretização:\")\n",
    "print(df_features_uniform.head())"
   ]
  },
  {
   "cell_type": "markdown",
   "id": "271db4e2",
   "metadata": {},
   "source": [
    "#### Quantização por bins variáveis"
   ]
  },
  {
   "cell_type": "code",
   "execution_count": 22,
   "id": "8c137dbe",
   "metadata": {},
   "outputs": [
    {
     "name": "stdout",
     "output_type": "stream",
     "text": [
      "=== Discretização por meio de quantização por bins variáveis ===\n",
      "\n",
      "Antes da discretização (valores originais):\n",
      "   mean area  mean perimeter\n",
      "0     1001.0          122.80\n",
      "1     1326.0          132.90\n",
      "2     1203.0          130.00\n",
      "3      386.1           77.58\n",
      "4     1297.0          135.10\n",
      "\n",
      "Após discretização:\n",
      "   mean area  mean perimeter\n",
      "0        3.0             3.0\n",
      "1        3.0             3.0\n",
      "2        3.0             3.0\n",
      "3        0.0             1.0\n",
      "4        3.0             3.0\n"
     ]
    }
   ],
   "source": [
    "discretizador_quantile = KBinsDiscretizer(n_bins=4, encode='ordinal', strategy='quantile')\n",
    "\n",
    "features_quantile = discretizador_quantile.fit_transform(df_features_selecionadas)\n",
    "\n",
    "df_features_quantile = pd.DataFrame(features_quantile, columns=df_features_selecionadas.columns)\n",
    "\n",
    "print(\"=== Discretização por meio de quantização por bins variáveis ===\")\n",
    "print(\"\\nAntes da discretização (valores originais):\")\n",
    "print(df_features_selecionadas.head())\n",
    "\n",
    "print(\"\\nApós discretização:\")\n",
    "print(df_features_quantile.head())"
   ]
  }
 ],
 "metadata": {
  "kernelspec": {
   "display_name": "AT_FEATURE",
   "language": "python",
   "name": "python3"
  },
  "language_info": {
   "codemirror_mode": {
    "name": "ipython",
    "version": 3
   },
   "file_extension": ".py",
   "mimetype": "text/x-python",
   "name": "python",
   "nbconvert_exporter": "python",
   "pygments_lexer": "ipython3",
   "version": "3.13.5"
  }
 },
 "nbformat": 4,
 "nbformat_minor": 5
}
