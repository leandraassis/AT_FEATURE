{
 "cells": [
  {
   "cell_type": "markdown",
   "id": "df6ff5b5",
   "metadata": {},
   "source": [
    "#### Pré-processamento"
   ]
  },
  {
   "cell_type": "code",
   "execution_count": 2,
   "id": "61205332",
   "metadata": {},
   "outputs": [
    {
     "name": "stdout",
     "output_type": "stream",
     "text": [
      "                     Name Sex Event Equipment   Age AgeClass BirthYearClass  \\\n",
      "0             Alona Vladi   F   SBD       Raw  33.0    24-34          24-39   \n",
      "1      Galina Solovyanova   F   SBD       Raw  43.0    40-44          40-49   \n",
      "2          Daniil Voronin   M   SBD       Raw  15.5    16-17          14-18   \n",
      "3          Aleksey Krasov   M   SBD       Raw  35.0    35-39          24-39   \n",
      "4  Margarita Pleschenkova   M   SBD       Raw  26.5    24-34          24-39   \n",
      "\n",
      "  Division  BodyweightKg WeightClassKg  ...  Tested  Country  State  \\\n",
      "0        O         58.30            60  ...     Yes   Russia    NaN   \n",
      "1       M1         73.10            75  ...     Yes   Russia    NaN   \n",
      "2        T         67.40            75  ...     Yes   Russia    NaN   \n",
      "3        O         66.65            75  ...     Yes   Russia    NaN   \n",
      "4        O         72.45            75  ...     Yes   Russia    NaN   \n",
      "\n",
      "   Federation  ParentFederation        Date  MeetCountry  MeetState  MeetTown  \\\n",
      "0         GFP               NaN  2019-05-11       Russia        NaN   Bryansk   \n",
      "1         GFP               NaN  2019-05-11       Russia        NaN   Bryansk   \n",
      "2         GFP               NaN  2019-05-11       Russia        NaN   Bryansk   \n",
      "3         GFP               NaN  2019-05-11       Russia        NaN   Bryansk   \n",
      "4         GFP               NaN  2019-05-11       Russia        NaN   Bryansk   \n",
      "\n",
      "          MeetName  \n",
      "0  Open Tournament  \n",
      "1  Open Tournament  \n",
      "2  Open Tournament  \n",
      "3  Open Tournament  \n",
      "4  Open Tournament  \n",
      "\n",
      "[5 rows x 41 columns]\n"
     ]
    }
   ],
   "source": [
    "import pandas as pd\n",
    "from sklearn.feature_extraction import FeatureHasher\n",
    "\n",
    "df_power_base = pd.read_csv('C:/Users/assis/Desktop/dataset_open/openpowerlifting.csv', low_memory=False)\n",
    "\n",
    "colunas_categoricas = ['Sex', 'Event', 'Equipment']\n",
    "\n",
    "print(df_power_base.head())"
   ]
  },
  {
   "cell_type": "markdown",
   "id": "9c0f0432",
   "metadata": {},
   "source": [
    "#### One-hot"
   ]
  },
  {
   "cell_type": "code",
   "execution_count": null,
   "id": "0f79b231",
   "metadata": {},
   "outputs": [
    {
     "name": "stdout",
     "output_type": "stream",
     "text": [
      "One-Hot Encoding:\n",
      "                     Name   Age AgeClass BirthYearClass Division  \\\n",
      "0             Alona Vladi  33.0    24-34          24-39        O   \n",
      "1      Galina Solovyanova  43.0    40-44          40-49       M1   \n",
      "2          Daniil Voronin  15.5    16-17          14-18        T   \n",
      "3          Aleksey Krasov  35.0    35-39          24-39        O   \n",
      "4  Margarita Pleschenkova  26.5    24-34          24-39        O   \n",
      "\n",
      "   BodyweightKg WeightClassKg  Squat1Kg  Squat2Kg  Squat3Kg  ...  Event_S  \\\n",
      "0         58.30            60      75.0      80.0     -90.0  ...    False   \n",
      "1         73.10            75      95.0     100.0     105.0  ...    False   \n",
      "2         67.40            75      85.0      90.0     100.0  ...    False   \n",
      "3         66.65            75     125.0     132.0     137.5  ...    False   \n",
      "4         72.45            75      80.0      85.0      90.0  ...    False   \n",
      "\n",
      "   Event_SB  Event_SBD  Event_SD  Equipment_Multi-ply  Equipment_Raw  \\\n",
      "0     False       True     False                False           True   \n",
      "1     False       True     False                False           True   \n",
      "2     False       True     False                False           True   \n",
      "3     False       True     False                False           True   \n",
      "4     False       True     False                False           True   \n",
      "\n",
      "   Equipment_Single-ply  Equipment_Straps  Equipment_Unlimited  \\\n",
      "0                 False             False                False   \n",
      "1                 False             False                False   \n",
      "2                 False             False                False   \n",
      "3                 False             False                False   \n",
      "4                 False             False                False   \n",
      "\n",
      "   Equipment_Wraps  \n",
      "0            False  \n",
      "1            False  \n",
      "2            False  \n",
      "3            False  \n",
      "4            False  \n",
      "\n",
      "[5 rows x 54 columns]\n"
     ]
    }
   ],
   "source": [
    "df_onehot = pd.get_dummies(df_power_base, columns=colunas_categoricas, drop_first=False)\n",
    "\n",
    "print(\"One-Hot Encoding:\")\n",
    "print(df_onehot.head())"
   ]
  },
  {
   "cell_type": "markdown",
   "id": "f61d3e85",
   "metadata": {},
   "source": [
    "#### Dummy Coding"
   ]
  },
  {
   "cell_type": "code",
   "execution_count": null,
   "id": "42545cb6",
   "metadata": {},
   "outputs": [
    {
     "name": "stdout",
     "output_type": "stream",
     "text": [
      "Dummy Coding:\n",
      "                     Name   Age AgeClass BirthYearClass Division  \\\n",
      "0             Alona Vladi  33.0    24-34          24-39        O   \n",
      "1      Galina Solovyanova  43.0    40-44          40-49       M1   \n",
      "2          Daniil Voronin  15.5    16-17          14-18        T   \n",
      "3          Aleksey Krasov  35.0    35-39          24-39        O   \n",
      "4  Margarita Pleschenkova  26.5    24-34          24-39        O   \n",
      "\n",
      "   BodyweightKg WeightClassKg  Squat1Kg  Squat2Kg  Squat3Kg  ...  Event_D  \\\n",
      "0         58.30            60      75.0      80.0     -90.0  ...    False   \n",
      "1         73.10            75      95.0     100.0     105.0  ...    False   \n",
      "2         67.40            75      85.0      90.0     100.0  ...    False   \n",
      "3         66.65            75     125.0     132.0     137.5  ...    False   \n",
      "4         72.45            75      80.0      85.0      90.0  ...    False   \n",
      "\n",
      "   Event_S  Event_SB  Event_SBD  Event_SD  Equipment_Raw  \\\n",
      "0    False     False       True     False           True   \n",
      "1    False     False       True     False           True   \n",
      "2    False     False       True     False           True   \n",
      "3    False     False       True     False           True   \n",
      "4    False     False       True     False           True   \n",
      "\n",
      "   Equipment_Single-ply  Equipment_Straps  Equipment_Unlimited  \\\n",
      "0                 False             False                False   \n",
      "1                 False             False                False   \n",
      "2                 False             False                False   \n",
      "3                 False             False                False   \n",
      "4                 False             False                False   \n",
      "\n",
      "   Equipment_Wraps  \n",
      "0            False  \n",
      "1            False  \n",
      "2            False  \n",
      "3            False  \n",
      "4            False  \n",
      "\n",
      "[5 rows x 51 columns]\n"
     ]
    }
   ],
   "source": [
    "df_dummy = pd.get_dummies(df_power_base, columns=colunas_categoricas, drop_first=True)\n",
    "\n",
    "#Comparação com One-hot\n",
    "#Enquanto o one-hot mantém todas as categorias, o dummy coding reduz uma coluna por variável -> drop_first=True\n",
    "print(\"Dummy Coding:\")\n",
    "print(df_dummy.head())"
   ]
  },
  {
   "cell_type": "markdown",
   "id": "ea88efcb",
   "metadata": {},
   "source": [
    "#### Effect Coding"
   ]
  },
  {
   "cell_type": "code",
   "execution_count": null,
   "id": "7e1af907",
   "metadata": {},
   "outputs": [
    {
     "name": "stdout",
     "output_type": "stream",
     "text": [
      "       F      M      B     BD      D      S     SB   SBD  Multi-ply   Raw  \\\n",
      "0   True  False  False  False  False  False  False  True      False  True   \n",
      "1   True  False  False  False  False  False  False  True      False  True   \n",
      "2  False   True  False  False  False  False  False  True      False  True   \n",
      "3  False   True  False  False  False  False  False  True      False  True   \n",
      "4  False   True  False  False  False  False  False  True      False  True   \n",
      "\n",
      "   Single-ply  Straps  Unlimited  \n",
      "0       False   False      False  \n",
      "1       False   False      False  \n",
      "2       False   False      False  \n",
      "3       False   False      False  \n",
      "4       False   False      False  \n"
     ]
    }
   ],
   "source": [
    "def effect_coding(dataset):\n",
    "    dummy = pd.get_dummies(dataset)\n",
    "    coluna_referencia = dummy.columns[-1]\n",
    "    dummy[coluna_referencia] = dummy[coluna_referencia].replace(1, -1)\n",
    "    return dummy.drop(columns=[coluna_referencia])\n",
    "\n",
    "effect = []\n",
    "\n",
    "for col in colunas_categoricas:\n",
    "    effect_df = effect_coding(df_power_base[col])\n",
    "    effect.append(effect_df)\n",
    "\n",
    "df_effect_coding = pd.concat(effect, axis=1)\n",
    "\n",
    "print(df_effect_coding.head())"
   ]
  },
  {
   "cell_type": "markdown",
   "id": "3097dbea",
   "metadata": {},
   "source": [
    "#### FeatureHasher"
   ]
  },
  {
   "cell_type": "code",
   "execution_count": null,
   "id": "3c7b415a",
   "metadata": {},
   "outputs": [
    {
     "name": "stdout",
     "output_type": "stream",
     "text": [
      "    0    1    2    3    4    5    6    7    8    9   ...   22   23   24   25  \\\n",
      "0  0.0  0.0  0.0  0.0  0.0  0.0  0.0  0.0  0.0  0.0  ...  0.0  0.0  0.0  0.0   \n",
      "1  0.0  0.0  0.0  0.0  0.0  0.0  0.0  0.0  0.0  0.0  ...  0.0  0.0  0.0  0.0   \n",
      "2  0.0  0.0  0.0  0.0  0.0  0.0  0.0  0.0  0.0  0.0  ...  0.0  0.0  0.0  0.0   \n",
      "3  0.0  0.0  0.0  0.0  0.0  0.0  0.0  0.0  0.0  0.0  ...  0.0  0.0  0.0  0.0   \n",
      "4  0.0  0.0  0.0  0.0  0.0  0.0  0.0  0.0  0.0  0.0  ...  0.0  0.0  0.0  0.0   \n",
      "\n",
      "    26   27   28   29   30   31  \n",
      "0  0.0  0.0  0.0  0.0  0.0  1.0  \n",
      "1  0.0  0.0  0.0  0.0  0.0  1.0  \n",
      "2  0.0  0.0  0.0  0.0  0.0  0.0  \n",
      "3  0.0  0.0  0.0  0.0  0.0  0.0  \n",
      "4  0.0  0.0  0.0  0.0  0.0  0.0  \n",
      "\n",
      "[5 rows x 32 columns]\n"
     ]
    }
   ],
   "source": [
    "df_categ = df_power_base[colunas_categoricas]\n",
    "cat_dici = df_categ.to_dict(orient='records')\n",
    "\n",
    "hasher = FeatureHasher(n_features=32, input_type='dict')\n",
    "hasher_matrix = hasher.transform(cat_dici)\n",
    "\n",
    "df_hasher = pd.DataFrame(hasher_matrix.toarray())\n",
    "\n",
    "print(df_hasher.head())\n"
   ]
  },
  {
   "cell_type": "markdown",
   "id": "b0cc9464",
   "metadata": {},
   "source": [
    "#### Bin-Couting"
   ]
  },
  {
   "cell_type": "code",
   "execution_count": null,
   "id": "4bfb1a5f",
   "metadata": {},
   "outputs": [
    {
     "name": "stdout",
     "output_type": "stream",
     "text": [
      "Bin Counting:\n",
      "   Sex_F  Sex_M  Sex_Mx  Event_B  Event_BD  Event_D  Event_S  Event_SB  \\\n",
      "0   True  False   False    False     False    False    False     False   \n",
      "1   True  False   False    False     False    False    False     False   \n",
      "2  False   True   False    False     False    False    False     False   \n",
      "3  False   True   False    False     False    False    False     False   \n",
      "4  False   True   False    False     False    False    False     False   \n",
      "\n",
      "   Event_SBD  Event_SD  Equipment_Multi-ply  Equipment_Raw  \\\n",
      "0       True     False                False           True   \n",
      "1       True     False                False           True   \n",
      "2       True     False                False           True   \n",
      "3       True     False                False           True   \n",
      "4       True     False                False           True   \n",
      "\n",
      "   Equipment_Single-ply  Equipment_Straps  Equipment_Unlimited  \\\n",
      "0                 False             False                False   \n",
      "1                 False             False                False   \n",
      "2                 False             False                False   \n",
      "3                 False             False                False   \n",
      "4                 False             False                False   \n",
      "\n",
      "   Equipment_Wraps  \n",
      "0            False  \n",
      "1            False  \n",
      "2            False  \n",
      "3            False  \n",
      "4            False  \n"
     ]
    }
   ],
   "source": [
    "df_bin_count = pd.get_dummies(df_power_base[colunas_categoricas], drop_first=False)\n",
    "\n",
    "print(\"Bin Counting:\")\n",
    "print(df_bin_count.head())"
   ]
  }
 ],
 "metadata": {
  "kernelspec": {
   "display_name": "AT_FEATURE",
   "language": "python",
   "name": "python3"
  },
  "language_info": {
   "codemirror_mode": {
    "name": "ipython",
    "version": 3
   },
   "file_extension": ".py",
   "mimetype": "text/x-python",
   "name": "python",
   "nbconvert_exporter": "python",
   "pygments_lexer": "ipython3",
   "version": "3.13.5"
  }
 },
 "nbformat": 4,
 "nbformat_minor": 5
}
