{
 "cells": [
  {
   "cell_type": "markdown",
   "id": "163b8e35",
   "metadata": {},
   "source": [
    "#### Pré-processamento"
   ]
  },
  {
   "cell_type": "code",
   "execution_count": 32,
   "id": "161875ce",
   "metadata": {},
   "outputs": [],
   "source": [
    "import pandas as pd\n",
    "from sklearn.datasets import load_breast_cancer\n",
    "from sklearn.preprocessing import MinMaxScaler, StandardScaler, Normalizer\n",
    "\n",
    "dataset = load_breast_cancer()\n",
    "df_breast_cancer = pd.DataFrame(dataset.data, columns=dataset.feature_names)"
   ]
  },
  {
   "cell_type": "markdown",
   "id": "ea6d012a",
   "metadata": {},
   "source": [
    "#### MinMaxScaler"
   ]
  },
  {
   "cell_type": "code",
   "execution_count": 33,
   "id": "9bf2a255",
   "metadata": {},
   "outputs": [
    {
     "name": "stdout",
     "output_type": "stream",
     "text": [
      "   mean radius  mean texture  mean perimeter  mean area  mean smoothness  \\\n",
      "0     0.521037      0.022658        0.545989   0.363733         0.593753   \n",
      "1     0.643144      0.272574        0.615783   0.501591         0.289880   \n",
      "2     0.601496      0.390260        0.595743   0.449417         0.514309   \n",
      "3     0.210090      0.360839        0.233501   0.102906         0.811321   \n",
      "4     0.629893      0.156578        0.630986   0.489290         0.430351   \n",
      "\n",
      "   mean compactness  mean concavity  mean concave points  mean symmetry  \\\n",
      "0          0.792037        0.703140             0.731113       0.686364   \n",
      "1          0.181768        0.203608             0.348757       0.379798   \n",
      "2          0.431017        0.462512             0.635686       0.509596   \n",
      "3          0.811361        0.565604             0.522863       0.776263   \n",
      "4          0.347893        0.463918             0.518390       0.378283   \n",
      "\n",
      "   mean fractal dimension  ...  worst radius  worst texture  worst perimeter  \\\n",
      "0                0.605518  ...      0.620776       0.141525         0.668310   \n",
      "1                0.141323  ...      0.606901       0.303571         0.539818   \n",
      "2                0.211247  ...      0.556386       0.360075         0.508442   \n",
      "3                1.000000  ...      0.248310       0.385928         0.241347   \n",
      "4                0.186816  ...      0.519744       0.123934         0.506948   \n",
      "\n",
      "   worst area  worst smoothness  worst compactness  worst concavity  \\\n",
      "0    0.450698          0.601136           0.619292         0.568610   \n",
      "1    0.435214          0.347553           0.154563         0.192971   \n",
      "2    0.374508          0.483590           0.385375         0.359744   \n",
      "3    0.094008          0.915472           0.814012         0.548642   \n",
      "4    0.341575          0.437364           0.172415         0.319489   \n",
      "\n",
      "   worst concave points  worst symmetry  worst fractal dimension  \n",
      "0              0.912027        0.598462                 0.418864  \n",
      "1              0.639175        0.233590                 0.222878  \n",
      "2              0.835052        0.403706                 0.213433  \n",
      "3              0.884880        1.000000                 0.773711  \n",
      "4              0.558419        0.157500                 0.142595  \n",
      "\n",
      "[5 rows x 30 columns]\n"
     ]
    }
   ],
   "source": [
    "scaler_minmax = MinMaxScaler()\n",
    "\n",
    "df_normalizado_minmax = pd.DataFrame(scaler_minmax.fit_transform(df_breast_cancer), columns=dataset.feature_names)\n",
    "\n",
    "print(df_normalizado_minmax.head())"
   ]
  },
  {
   "cell_type": "markdown",
   "id": "23be0b72",
   "metadata": {},
   "source": [
    "#### StandardScaler"
   ]
  },
  {
   "cell_type": "code",
   "execution_count": 34,
   "id": "f2430601",
   "metadata": {},
   "outputs": [
    {
     "name": "stdout",
     "output_type": "stream",
     "text": [
      "   mean radius  mean texture  mean perimeter  mean area  mean smoothness  \\\n",
      "0     1.097064     -2.073335        1.269934   0.984375         1.568466   \n",
      "1     1.829821     -0.353632        1.685955   1.908708        -0.826962   \n",
      "2     1.579888      0.456187        1.566503   1.558884         0.942210   \n",
      "3    -0.768909      0.253732       -0.592687  -0.764464         3.283553   \n",
      "4     1.750297     -1.151816        1.776573   1.826229         0.280372   \n",
      "\n",
      "   mean compactness  mean concavity  mean concave points  mean symmetry  \\\n",
      "0          3.283515        2.652874             2.532475       2.217515   \n",
      "1         -0.487072       -0.023846             0.548144       0.001392   \n",
      "2          1.052926        1.363478             2.037231       0.939685   \n",
      "3          3.402909        1.915897             1.451707       2.867383   \n",
      "4          0.539340        1.371011             1.428493      -0.009560   \n",
      "\n",
      "   mean fractal dimension  ...  worst radius  worst texture  worst perimeter  \\\n",
      "0                2.255747  ...      1.886690      -1.359293         2.303601   \n",
      "1               -0.868652  ...      1.805927      -0.369203         1.535126   \n",
      "2               -0.398008  ...      1.511870      -0.023974         1.347475   \n",
      "3                4.910919  ...     -0.281464       0.133984        -0.249939   \n",
      "4               -0.562450  ...      1.298575      -1.466770         1.338539   \n",
      "\n",
      "   worst area  worst smoothness  worst compactness  worst concavity  \\\n",
      "0    2.001237          1.307686           2.616665         2.109526   \n",
      "1    1.890489         -0.375612          -0.430444        -0.146749   \n",
      "2    1.456285          0.527407           1.082932         0.854974   \n",
      "3   -0.550021          3.394275           3.893397         1.989588   \n",
      "4    1.220724          0.220556          -0.313395         0.613179   \n",
      "\n",
      "   worst concave points  worst symmetry  worst fractal dimension  \n",
      "0              2.296076        2.750622                 1.937015  \n",
      "1              1.087084       -0.243890                 0.281190  \n",
      "2              1.955000        1.152255                 0.201391  \n",
      "3              2.175786        6.046041                 4.935010  \n",
      "4              0.729259       -0.868353                -0.397100  \n",
      "\n",
      "[5 rows x 30 columns]\n"
     ]
    }
   ],
   "source": [
    "scaler_standard = StandardScaler()\n",
    "\n",
    "df_padronizado_standard = pd.DataFrame(scaler_standard.fit_transform(df_breast_cancer), columns=dataset.feature_names)\n",
    "\n",
    "print(df_padronizado_standard.head())"
   ]
  },
  {
   "cell_type": "markdown",
   "id": "666f6567",
   "metadata": {},
   "source": [
    "#### Norma L2"
   ]
  },
  {
   "cell_type": "code",
   "execution_count": 35,
   "id": "3ac31ed9",
   "metadata": {},
   "outputs": [
    {
     "name": "stdout",
     "output_type": "stream",
     "text": [
      "   mean radius  mean texture  mean perimeter  mean area  mean smoothness  \\\n",
      "0     0.007925      0.004573        0.054099   0.440986         0.000052   \n",
      "1     0.008666      0.007486        0.055988   0.558619         0.000036   \n",
      "2     0.009367      0.010109        0.061842   0.572276         0.000052   \n",
      "3     0.016325      0.029133        0.110899   0.551922         0.000204   \n",
      "4     0.009883      0.006985        0.065808   0.631774         0.000049   \n",
      "\n",
      "   mean compactness  mean concavity  mean concave points  mean symmetry  \\\n",
      "0          0.000122        0.000132             0.000065       0.000107   \n",
      "1          0.000033        0.000037             0.000030       0.000076   \n",
      "2          0.000076        0.000094             0.000061       0.000098   \n",
      "3          0.000406        0.000345             0.000150       0.000371   \n",
      "4          0.000065        0.000096             0.000051       0.000088   \n",
      "\n",
      "   mean fractal dimension  ...  worst radius  worst texture  worst perimeter  \\\n",
      "0                0.000035  ...      0.011181       0.007635         0.081325   \n",
      "1                0.000024  ...      0.010528       0.009862         0.066899   \n",
      "2                0.000029  ...      0.011212       0.012145         0.072545   \n",
      "3                0.000139  ...      0.021314       0.037881         0.141333   \n",
      "4                0.000029  ...      0.010979       0.008120         0.074137   \n",
      "\n",
      "   worst area  worst smoothness  worst compactness  worst concavity  \\\n",
      "0    0.889462          0.000071           0.000293         0.000314   \n",
      "1    0.824026          0.000052           0.000079         0.000102   \n",
      "2    0.812984          0.000069           0.000202         0.000214   \n",
      "3    0.811515          0.000300           0.001238         0.000982   \n",
      "4    0.767189          0.000067           0.000100         0.000195   \n",
      "\n",
      "   worst concave points  worst symmetry  worst fractal dimension  \n",
      "0              0.000117        0.000203                 0.000052  \n",
      "1              0.000078        0.000116                 0.000038  \n",
      "2              0.000116        0.000172                 0.000042  \n",
      "3              0.000368        0.000949                 0.000247  \n",
      "4              0.000079        0.000115                 0.000037  \n",
      "\n",
      "[5 rows x 30 columns]\n"
     ]
    }
   ],
   "source": [
    "normalizer_l2 = Normalizer(norm='l2')\n",
    "\n",
    "df_l2 = pd.DataFrame(normalizer_l2.fit_transform(df_breast_cancer), columns=dataset.feature_names)\n",
    "\n",
    "print(df_l2.head())"
   ]
  }
 ],
 "metadata": {
  "kernelspec": {
   "display_name": "AT_FEATURE",
   "language": "python",
   "name": "python3"
  },
  "language_info": {
   "codemirror_mode": {
    "name": "ipython",
    "version": 3
   },
   "file_extension": ".py",
   "mimetype": "text/x-python",
   "name": "python",
   "nbconvert_exporter": "python",
   "pygments_lexer": "ipython3",
   "version": "3.13.5"
  }
 },
 "nbformat": 4,
 "nbformat_minor": 5
}
