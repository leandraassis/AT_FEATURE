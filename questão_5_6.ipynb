{
 "cells": [
  {
   "cell_type": "markdown",
   "id": "3b361d3a",
   "metadata": {},
   "source": [
    "#### Remoção de StopWords"
   ]
  },
  {
   "cell_type": "code",
   "execution_count": 14,
   "id": "86d6c14e",
   "metadata": {},
   "outputs": [
    {
     "name": "stdout",
     "output_type": "stream",
     "text": [
      "                                              review  sentiment\n",
      "0  bromwell high cartoon comedy ran time programs...          1\n",
      "1  homelessness houselessness george carlin state...          1\n",
      "2  brilliant overacting lesley ann warren best dr...          1\n",
      "3  easily underrated film inn brooks cannon sure ...          1\n",
      "4  typical mel brooks film much less slapstick mo...          1\n"
     ]
    }
   ],
   "source": [
    "import os\n",
    "import pandas as pd\n",
    "import string\n",
    "from nltk.corpus import stopwords\n",
    "from nltk.tokenize import word_tokenize\n",
    "\n",
    "stop_words = set(stopwords.words('english'))\n",
    "\n",
    "def remover_stopwords(texto):\n",
    "    texto = texto.lower()\n",
    "    texto = texto.translate(str.maketrans('', '', string.punctuation))\n",
    "    tokens = word_tokenize(texto)\n",
    "    tokens_filtrados = [p for p in tokens if p not in stop_words]\n",
    "    return ' '.join(tokens_filtrados)\n",
    "\n",
    "def carregar_reviews_stopwords(caminho_base):\n",
    "    textos = []\n",
    "    sentimentos = []\n",
    "\n",
    "    for sentimento in ['pos', 'neg']:\n",
    "        pasta = os.path.join(caminho_base, sentimento)\n",
    "        for nome_arquivo in os.listdir(pasta):\n",
    "            caminho_arquivo = os.path.join(pasta, nome_arquivo)\n",
    "            with open(caminho_arquivo, encoding='utf-8') as f:\n",
    "                texto_original = f.read()\n",
    "                texto_processado = remover_stopwords(texto_original)\n",
    "                textos.append(texto_processado)\n",
    "                sentimentos.append(1 if sentimento == 'pos' else 0)\n",
    "\n",
    "    return pd.DataFrame({'review': textos, 'sentiment': sentimentos})\n",
    "\n",
    "caminho_train = 'resenhas_dataset/aclImdb/train'\n",
    "caminho_test = 'resenhas_dataset/aclImdb/test'\n",
    "\n",
    "df_train = carregar_reviews_stopwords(caminho_train)\n",
    "df_test = carregar_reviews_stopwords(caminho_test)\n",
    "\n",
    "df_stopwords_removidas = pd.concat([df_train, df_test], ignore_index=True)\n",
    "\n",
    "print(df_stopwords_removidas.head())\n"
   ]
  }
 ],
 "metadata": {
  "kernelspec": {
   "display_name": "AT_FEATURE",
   "language": "python",
   "name": "python3"
  },
  "language_info": {
   "codemirror_mode": {
    "name": "ipython",
    "version": 3
   },
   "file_extension": ".py",
   "mimetype": "text/x-python",
   "name": "python",
   "nbconvert_exporter": "python",
   "pygments_lexer": "ipython3",
   "version": "3.13.5"
  }
 },
 "nbformat": 4,
 "nbformat_minor": 5
}
