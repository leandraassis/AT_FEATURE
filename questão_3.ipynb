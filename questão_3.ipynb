{
 "cells": [
  {
   "cell_type": "markdown",
   "id": "4d9d76d4",
   "metadata": {},
   "source": [
    "#### Pré-processamento"
   ]
  },
  {
   "cell_type": "code",
   "execution_count": 11,
   "id": "25b80228",
   "metadata": {},
   "outputs": [],
   "source": [
    "import numpy as np\n",
    "import pandas as pd\n",
    "from sklearn.datasets import load_breast_cancer\n",
    "from sklearn.preprocessing import FunctionTransformer\n",
    "from sklearn.preprocessing import PowerTransformer\n",
    "\n",
    "dataset = load_breast_cancer()\n",
    "df_breast_cancer = pd.DataFrame(dataset.data, columns=dataset.feature_names)"
   ]
  },
  {
   "cell_type": "markdown",
   "id": "bab89eee",
   "metadata": {},
   "source": [
    "#### Uso do FunctionTransformer"
   ]
  },
  {
   "cell_type": "code",
   "execution_count": 12,
   "id": "880e0ea9",
   "metadata": {},
   "outputs": [
    {
     "name": "stdout",
     "output_type": "stream",
     "text": [
      "Valores transformados com FunctionTransformer(sqrt):\n",
      "\n",
      "   mean radius  mean texture  mean perimeter  mean area  mean smoothness  \\\n",
      "0     4.241462      3.221801       11.081516  31.638584         0.344093   \n",
      "1     4.535416      4.215448       11.528226  36.414283         0.291101   \n",
      "2     4.437342      4.609772       11.401754  34.684290         0.331059   \n",
      "3     3.379349      4.514421        8.807951  19.649427         0.377492   \n",
      "4     4.504442      3.786819       11.623253  36.013886         0.316702   \n",
      "\n",
      "   mean compactness  mean concavity  mean concave points  mean symmetry  \\\n",
      "0          0.526878        0.547814             0.383536       0.491833   \n",
      "1          0.280428        0.294788             0.264896       0.425676   \n",
      "2          0.399875        0.444297             0.357631       0.454863   \n",
      "3          0.532823        0.491325             0.324345       0.509608   \n",
      "4          0.364417        0.444972             0.322955       0.425323   \n",
      "\n",
      "   mean fractal dimension  ...  worst radius  worst texture  worst perimeter  \\\n",
      "0                0.280553  ...      5.037857       4.162932        13.586758   \n",
      "1                0.238055  ...      4.999000       4.838388        12.601587   \n",
      "2                0.244929  ...      4.854894       5.052722        12.349089   \n",
      "3                0.312154  ...      3.861347       5.147815         9.943339   \n",
      "4                0.242549  ...      4.747631       4.082891        12.336936   \n",
      "\n",
      "   worst area  worst smoothness  worst compactness  worst concavity  \\\n",
      "0   44.933284          0.402741           0.815843         0.843742   \n",
      "1   44.226689          0.351852           0.431972         0.491528   \n",
      "2   41.340053          0.380000           0.651537         0.671118   \n",
      "3   23.826456          0.458039           0.930752         0.828794   \n",
      "4   39.686270          0.370675           0.452769         0.632456   \n",
      "\n",
      "   worst concave points  worst symmetry  worst fractal dimension  \n",
      "0              0.515170        0.678307                 0.344819  \n",
      "1              0.431277        0.524404                 0.298362  \n",
      "2              0.492950        0.601082                 0.295939  \n",
      "3              0.507445        0.814739                 0.415933  \n",
      "4              0.403113        0.486210                 0.277092  \n",
      "\n",
      "[5 rows x 30 columns]\n"
     ]
    }
   ],
   "source": [
    "sqrt_transformer = FunctionTransformer(np.sqrt)\n",
    "\n",
    "df_features_sqrt = pd.DataFrame(sqrt_transformer.fit_transform(df_breast_cancer), columns=dataset.feature_names)\n",
    "\n",
    "print(\"Valores transformados com FunctionTransformer(sqrt):\\n\")\n",
    "print(df_features_sqrt.head())"
   ]
  },
  {
   "cell_type": "markdown",
   "id": "8f5b81e8",
   "metadata": {},
   "source": [
    "#### Uso do PowerTransform"
   ]
  },
  {
   "cell_type": "code",
   "execution_count": 13,
   "id": "05474cba",
   "metadata": {},
   "outputs": [
    {
     "name": "stdout",
     "output_type": "stream",
     "text": [
      "Valores transformados com PowerTransformer:\n",
      "\n",
      "   mean radius  mean texture  mean perimeter  mean area  mean smoothness  \\\n",
      "0     1.134881     -2.678666        1.259822   1.126421         1.504114   \n",
      "1     1.619346     -0.264377        1.528723   1.633946        -0.820227   \n",
      "2     1.464796      0.547806        1.454664   1.461645         0.963977   \n",
      "3    -0.759262      0.357721       -0.514886  -0.836238         2.781494   \n",
      "4     1.571260     -1.233520        1.583340   1.595120         0.343932   \n",
      "\n",
      "   mean compactness  mean concavity  mean concave points  mean symmetry  \\\n",
      "0          2.165938        1.862988             1.848558       1.953067   \n",
      "1         -0.384102        0.291976             0.820609       0.102291   \n",
      "2          1.163977        1.403673             1.683104       0.985668   \n",
      "3          2.197843        1.642391             1.423004       2.360528   \n",
      "4          0.762392        1.407479             1.410929       0.090964   \n",
      "\n",
      "   mean fractal dimension  ...  worst radius  worst texture  worst perimeter  \\\n",
      "0                1.886398  ...      1.619635      -1.488367         1.810506   \n",
      "1               -0.956577  ...      1.578689      -0.288382         1.430616   \n",
      "2               -0.292433  ...      1.419757       0.071406         1.321941   \n",
      "3                2.708925  ...     -0.083692       0.228089        -0.039480   \n",
      "4               -0.511332  ...      1.293727      -1.637882         1.316582   \n",
      "\n",
      "   worst area  worst smoothness  worst compactness  worst concavity  \\\n",
      "0    1.652210          1.282792           1.942737         1.730182   \n",
      "1    1.610022         -0.325080          -0.296580         0.070746   \n",
      "2    1.425307          0.580301           1.209701         1.005512   \n",
      "3   -0.436860          2.857821           2.282276         1.675087   \n",
      "4    1.309486          0.284367          -0.131829         0.817474   \n",
      "\n",
      "   worst concave points  worst symmetry  worst fractal dimension  \n",
      "0              1.935654        2.197206                 1.723624  \n",
      "1              1.101594       -0.121997                 0.537179  \n",
      "2              1.722744        1.218181                 0.453955  \n",
      "3              1.862378        3.250202                 2.517606  \n",
      "4              0.807077       -0.943554                -0.279402  \n",
      "\n",
      "[5 rows x 30 columns]\n"
     ]
    }
   ],
   "source": [
    "pt = PowerTransformer()\n",
    "\n",
    "df_features_power = pd.DataFrame(pt.fit_transform(df_breast_cancer), columns=dataset.feature_names)\n",
    "\n",
    "print(\"Valores transformados com PowerTransformer:\\n\")\n",
    "print(df_features_power.head())\n"
   ]
  }
 ],
 "metadata": {
  "kernelspec": {
   "display_name": "AT_FEATURE",
   "language": "python",
   "name": "python3"
  },
  "language_info": {
   "codemirror_mode": {
    "name": "ipython",
    "version": 3
   },
   "file_extension": ".py",
   "mimetype": "text/x-python",
   "name": "python",
   "nbconvert_exporter": "python",
   "pygments_lexer": "ipython3",
   "version": "3.13.5"
  }
 },
 "nbformat": 4,
 "nbformat_minor": 5
}
